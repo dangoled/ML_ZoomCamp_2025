{
 "cells": [
  {
   "cell_type": "markdown",
   "id": "a6722bcc-d0b4-49fd-a16b-00734ccbf6f6",
   "metadata": {},
   "source": [
    "### <CENTER>ML ZOOMCAMP 2025 </CENTER>\n",
    "### <CENTER>01 INTRO - Homework</CENTER>\n",
    "### <CENTER>ANGOLE DANIEL</CENTER>\n",
    "\n",
    "#### Set up the environment\n",
    "You need to install Python, NumPy, Pandas, Matplotlib and Seaborn. For that, you can use the instructions from 06-environment.md.\n",
    "\n",
    "Q1. Pandas version\n",
    "What's the version of Pandas that you installed?\n",
    "\n",
    "You can get the version information using the `__version__` field:"
   ]
  },
  {
   "cell_type": "code",
   "execution_count": 1,
   "id": "77f2e70b-ec47-4cad-b70c-d16cf3199811",
   "metadata": {},
   "outputs": [],
   "source": [
    "import pandas as pd"
   ]
  },
  {
   "cell_type": "code",
   "execution_count": 2,
   "id": "d91b9db8-a190-4b92-93bd-6022e927054a",
   "metadata": {},
   "outputs": [
    {
     "data": {
      "text/plain": [
       "'2.3.1'"
      ]
     },
     "execution_count": 2,
     "metadata": {},
     "output_type": "execute_result"
    }
   ],
   "source": [
    "pd.__version__"
   ]
  },
  {
   "cell_type": "markdown",
   "id": "76839777-020f-4e84-ad12-b9498add59e8",
   "metadata": {},
   "source": [
    "#### Getting the data\n",
    "\n",
    "For this homework, we'll use the Car Fuel Efficiency dataset. Download it from here.\n",
    "\n",
    "You can do it with wget:\n",
    "\n",
    "wget https://raw.githubusercontent.com/alexeygrigorev/datasets/master/car_fuel_efficiency.csv\n",
    "Or just open it with your browser and click \"Save as...\".\n",
    "\n",
    "Now read it with Pandas.\n",
    "\n",
    "Q2. Records count\n",
    "How many records are in the dataset?"
   ]
  },
  {
   "cell_type": "code",
   "execution_count": 4,
   "id": "861d3bde-883b-4027-a5a1-57f164c1a5a5",
   "metadata": {},
   "outputs": [],
   "source": [
    "data = !wget https://raw.githubusercontent.com/alexeygrigorev/datasets/master/car_fuel_efficiency.csv"
   ]
  },
  {
   "cell_type": "code",
   "execution_count": 6,
   "id": "caee6171-fc67-451a-8876-98a55115857f",
   "metadata": {},
   "outputs": [
    {
     "ename": "NameError",
     "evalue": "name 'car_fuel_efficiency' is not defined",
     "output_type": "error",
     "traceback": [
      "\u001b[31m---------------------------------------------------------------------------\u001b[39m",
      "\u001b[31mNameError\u001b[39m                                 Traceback (most recent call last)",
      "\u001b[36mCell\u001b[39m\u001b[36m \u001b[39m\u001b[32mIn[6]\u001b[39m\u001b[32m, line 1\u001b[39m\n\u001b[32m----> \u001b[39m\u001b[32m1\u001b[39m df = pd.read_csv(\u001b[43mcar_fuel_efficiency\u001b[49m.csv)\n",
      "\u001b[31mNameError\u001b[39m: name 'car_fuel_efficiency' is not defined"
     ]
    }
   ],
   "source": [
    "df = pd.read_csv(car_fuel_efficiency.csv)"
   ]
  },
  {
   "cell_type": "code",
   "execution_count": null,
   "id": "527130e0-ce7b-4f48-b138-fe9751e91fee",
   "metadata": {},
   "outputs": [],
   "source": []
  }
 ],
 "metadata": {
  "kernelspec": {
   "display_name": "Python 3 (ipykernel)",
   "language": "python",
   "name": "python3"
  },
  "language_info": {
   "codemirror_mode": {
    "name": "ipython",
    "version": 3
   },
   "file_extension": ".py",
   "mimetype": "text/x-python",
   "name": "python",
   "nbconvert_exporter": "python",
   "pygments_lexer": "ipython3",
   "version": "3.12.1"
  }
 },
 "nbformat": 4,
 "nbformat_minor": 5
}
