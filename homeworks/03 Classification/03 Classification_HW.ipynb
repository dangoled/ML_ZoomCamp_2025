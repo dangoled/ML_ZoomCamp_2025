{
 "cells": [
  {
   "cell_type": "markdown",
   "id": "1cc3e17f-5b56-4fce-b8e6-0fee126d6fc7",
   "metadata": {},
   "source": [
    "### <CENTER>ML ZOOMCAMP 2025 </CENTER>\n",
    "### <CENTER>03 CLASSIFICATION - Homework</CENTER>\n",
    "### <CENTER>ANGOLE DANIEL</CENTER>\n",
    "\n",
    "#### Dataset\n",
    "\n",
    "For this homework,"
   ]
  },
  {
   "cell_type": "code",
   "execution_count": null,
   "id": "30273429-d326-4b94-a4cc-a4ddf8b8c263",
   "metadata": {},
   "outputs": [],
   "source": []
  }
 ],
 "metadata": {
  "kernelspec": {
   "display_name": "Python 3 (ipykernel)",
   "language": "python",
   "name": "python3"
  },
  "language_info": {
   "codemirror_mode": {
    "name": "ipython",
    "version": 3
   },
   "file_extension": ".py",
   "mimetype": "text/x-python",
   "name": "python",
   "nbconvert_exporter": "python",
   "pygments_lexer": "ipython3",
   "version": "3.12.1"
  }
 },
 "nbformat": 4,
 "nbformat_minor": 5
}
